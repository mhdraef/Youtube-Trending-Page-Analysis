{
 "cells": [
  {
   "cell_type": "markdown",
   "metadata": {
    "collapsed": false
   },
   "source": [
    "# Setup"
   ]
  },
  {
   "cell_type": "markdown",
   "metadata": {
    "collapsed": false
   },
   "source": [
    "Run this notebook to setup our project folder and download all the files we use for our testing."
   ]
  },
  {
   "cell_type": "code",
   "execution_count": 12,
   "metadata": {
    "collapsed": false
   },
   "outputs": [
   ],
   "source": [
    "#Note: Remove this cell if we do not use transforms3d\n",
    "# Here I install an extra Python package not in the CoCalc setup.\n",
    "# The exclamation mark at the beginning means \"run this command in the computer terminal\"\n",
    "#Not sure if we are using transforms3d, uncomment the below statement if we are using it\n",
    "#!pip install --user transforms3d"
   ]
  },
  {
   "cell_type": "code",
   "execution_count": 13,
   "metadata": {
    "collapsed": false
   },
   "outputs": [
   ],
   "source": [
    "# Here we download some data from the web\n",
    "# The form of this command is\n",
    "# curl -L <the URL with the data> -o <filename to save as>\n",
    "# Note: files from kaggle cannot be downloaded in this way as they require the user to be signed in. Therefore we have listed the links for the other data that couldn't be downloaded in the README file.\n"
   ]
  },
  {
   "cell_type": "code",
   "execution_count": 14,
   "metadata": {
    "collapsed": false
   },
   "outputs": [
    {
     "name": "stdout",
     "output_type": "stream",
     "text": [
      " 2019-03-30-175907.zip\r\n",
      "'Algorithm1: Designing the algorithm.ipynb'\r\n",
      "'Algorithm2a: Testing the algorithm.ipynb'\r\n",
      "'Algorithm2b: Testing the algorithm.ipynb'\r\n",
      "'Are the most viewed videos on trending?.ipynb'\r\n",
      "'Average views compared with trending.ipynb'\r\n",
      " CategoricalAnalysis.ipynb\r\n",
      " Channel_data.csv\r\n",
      " CleanData.ipynb\r\n",
      " Clean_GBvideos.csv\r\n",
      "'Creating an algorithm.jpg'\r\n",
      "'Data with average view count and 3rd party stuff removed.ipynb'\r\n",
      " GB_category_id.json\r\n",
      " GBvideos.csv\r\n",
      " README.ipynb\r\n",
      "'Trends between views, likes, dislikes and comments.ipynb'\r\n",
      " Youtube_df.ipynb\r\n",
      "'creating an algorithm.ipynb'\r\n",
      "'data (1).csv'\r\n",
      " gender_stats.csv\r\n",
      " mostviewedvids6.csv\r\n",
      " setup.ipynb\r\n",
      " subscribers_trending.ipynb\r\n",
      " trending2019.csv\r\n",
      " trending2019v2.csv\r\n",
      " trendingchannels.csv\r\n",
      "'trying to create an algorthim.ipynb'\r\n"
     ]
    }
   ],
   "source": [
    "# To check if the file has been successfully downloaded to the directory\n",
    "!ls"
   ]
  },
  {
   "cell_type": "code",
   "execution_count": 0,
   "metadata": {
    "collapsed": false
   },
   "outputs": [
   ],
   "source": [
   ]
  }
 ],
 "metadata": {
  "kernelspec": {
   "display_name": "SageMath (stable)",
   "language": "sagemath",
   "metadata": {
    "cocalc": {
     "description": "Open-source mathematical software system",
     "priority": 10,
     "url": "https://www.sagemath.org/"
    }
   },
   "name": "sagemath"
  },
  "language_info": {
   "codemirror_mode": {
    "name": "ipython",
    "version": 2
   },
   "file_extension": ".py",
   "mimetype": "text/x-python",
   "name": "python",
   "nbconvert_exporter": "python",
   "pygments_lexer": "ipython2",
   "version": "2.7.15"
  }
 },
 "nbformat": 4,
 "nbformat_minor": 0
}