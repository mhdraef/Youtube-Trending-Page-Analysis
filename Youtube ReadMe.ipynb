{
 "cells": [
  {
   "cell_type": "markdown",
   "metadata": {
    "collapsed": false
   },
   "source": [
    "Uncovering the Youtube Trending Page"
   ]
  },
  {
   "cell_type": "markdown",
   "metadata": {
    "collapsed": false
   },
   "source": [
    "In order to replicate our analysis, please do the following:\n",
    "\n",
    "* Execute all cells in the `setup.ipynb` notebook in this directory.\n",
    "* Execute all cell in the `CleanData.ipynb`. This removes some columns that we do not use and replaces all the category id's with their corresponding names as per the json file and writes out the cleaned data as `Clean_GBvideos.csv`.\n",
    "* Run all cells in this notebook.\n",
    "\n",
    "The report is this notebook, with all outputs."
   ]
  },
  {
   "cell_type": "markdown",
   "metadata": {
    "collapsed": false
   },
   "source": [
    "Introduction:"
   ]
  },
  {
   "cell_type": "markdown",
   "metadata": {
    "collapsed": false
   },
   "source": [
    "The idea of this document is to show what we have done and link to different parts in CoCalc. The brackets show which file in CoCalc the sentence is in reference to.\n",
    "\n",
    "The reason we choose this project is that the topic of the youtube trending page is talked about a lot in the youtube community. However nobody knows how it works, all people seem to know is that it is an algorithm developed by google of reasonably popular videos.\n",
    "So we thought we would try to investigate the topic as there is plenty of mystery and controversy around it and there is plenty of money involved as a video with millions of views could make thousands of pounds.\n",
    "Some of the original goals we had were:\n",
    "\n",
    "Comparing total views to number of times on trending\n",
    "\n",
    "Comparing subscribers to number of times on trending\n",
    "\n",
    "Comparing number of videos to number of subscribers\n",
    "\n",
    "Comparing average views to number of subscribers\n",
    "\n",
    "Comparing average views to number of times on trending\n",
    "\n",
    "Look at the tags on trending videos to see if certain tags are more popular\n",
    "\n",
    "Look at specific videos (why or why not they got on trending)\n",
    "\n",
    "Look at other countries data, maybe do a initial prediction and see how it compares\n",
    "\n",
    "Comparing viewer interaction (Iikes/dislikes, comments) with number of trending appearances \n",
    "\n",
    "Comparing Category of video with appearances on trending\n",
    "\n",
    "Looking at anomalies in trends and trying to explain why videos did or not make it when they should have\n",
    "\n",
    "We have now cut this list down to the more relevant goals.\n",
    "We could have tried to collect our own primary data by recording trending videos, views and subscribers as it is all public. However we wouldn't have enough data and it would take too long. So we looked for already collected data for our project, we found:\n",
    "\n",
    "GBvideos.csv at https://www.kaggle.com/datasnaek/youtube-new which has all the GB trending videos from November 2017 to June 2018\n",
    "\n",
    "https://data.world/sevenup13/youtube-video-and-channel-metadata this information we didn’t use in the end as there was so much data and it was in a file format that we couldn’t open\n",
    "\n",
    "data (1).csv https://www.kaggle.com/mdhrumil/top-5000-youtube-channels-data-from-socialblade which has information about the top 5000 youtube channels\n",
    "\n",
    "Mostviewedvids6:This is data we collected ourselves using WikiPedia, listing some of the most popular videos from November 2017 to June 2018, along with their views."
   ]
  },
  {
   "cell_type": "markdown",
   "metadata": {
    "collapsed": false
   },
   "source": [
    "We first began cleaning up the data from GBvideos.csv, linking video category number to the name of the category. We removed data we thought was unimportant for example the description and thumbnail link.\n",
    "Using the GB trending data, we have been getting some general statistics from it, including using the describe function to find useful information.(Trends between views, likes, dislikes and comments.) We have found the average and standard deviation of views, likes, dislikes and comments. \n",
    "\n",
    "Some interesting information we got from this is:\n",
    "The average number of views a video on trending gets is 5,911,944 but the standard deviation is a massive 19,001,210. The least viewed video on trending being by That's Surrey TV with only 815 views and the most viewed video being by NickyJamTV with 424,538,912 views. \n",
    "This suggests that there must be some other factor, or possibly an algorithm, dictating what appears on trending as there does not seem to be a correlation between the most obvious data, the number views, and trending appearances for some videos.\n",
    "\n",
    "We also cleaned up the data from data (1).csv, we removed the rank social blade had given each channel, renamed the columns so it is one word and made a column for average views.(Data with average view c…d 3rd party stuff removed) We then combined this data with the data from the GBvideos csv so we could compare the channel stats with the trending stats.(Average views compared with trending) We made a couple of scatter graphs showing the how subscribers and average channel views relates to the number of times on trending.\n",
    "\n",
    "After we matched the category id to the category name in GB videos we looked at which categories got on trending a lot.(CategoricalAnalysis) We then looked at lots of other statistics to do with the channels if trending.\n",
    "\n",
    "Finally we started making an algorithm to decide if a video would get on trending or not. (trying to create an algorithm)\n",
    "\n",
    "The algorithm:\n",
    "\n",
    "Designing and creating the algorithm. To design the algorithm, we used the data we had found in CategoricalAnalysis, Average views compared with trending, Trends between views, likes, dislikes and comments notepads and we used the information from https://support.google.com/youtube/answer/7239739?hl=en-GB which is where YouTube tells you how they choose which videos get on trending. This is explained this in the Algorithm1: Designing the algorithm notepad. The final algorithm is very similar to the plan, shown below, expect the points are slightly different and we have also looked at the most popular categories for trending videos after looking through the CategoricalAnalysis notepad. At the end, each video should have a probability, the higher the probability, the more likely the video will be on trending. (creating an algorithm.jpeg)\n",
    "\n",
    "Testing the algorithm. In two different notepads we tested the algorithm, one using data from today and the second using data from November 2017. The algorithm didn’t work great, which is confusing since we tried to follow what YouTube itself had said made a video go onto the trending page. It was very difficult to find many trends in the data and you can see this in Average views compared with trending and the Trends between views, likes, dislikes and comments notepads. This could suggest that YouTube picks out some of the videos that go on trending themselves, and blacklist others. Whatever they do much work to some degree as the top 6 videos between November 2017 and June 2018 were on trending as shown in the notepad Are the most viewed videos on trending? Maybe we were on the right track but the algorithm is far more complicated than what we have done. Youtube also says that the trending algorithm looks at 'Where views are coming from (including outside of YouTube)'. Unfortunately we were unable to find a way to include this into the algorithm we created. \n",
    "\n",
    "\n",
    "During the entire process of the project we helped eachother with the coding, as our group is of differenct skill levels in this regards. For some of us this was our first experience with python, whilst one of our members studies computer science so was particularly helpful in providing feedback on the coding. Online communication between the group was done via Facebook messenger, however most of our collaborative work, and thus cooperation on coding, was done during face-to-face meet ups. An example of the groups collaborative work on the coding can be seen through the 'coding-help' screenshot, where a member was struggling with the coding on 'subscribers_trending.v1', but was then able to execute the code as intended in 'average views and subscribers' by recieveing help from another member. "
   ]
  }
 ],
 "metadata": {
  "kernelspec": {
   "display_name": "SageMath (stable)",
   "language": "sagemath",
   "metadata": {
    "cocalc": {
     "description": "Open-source mathematical software system",
     "priority": 10,
     "url": "https://www.sagemath.org/"
    }
   },
   "name": "sagemath"
  },
  "language_info": {
   "codemirror_mode": {
    "name": "ipython",
    "version": 2
   },
   "file_extension": ".py",
   "mimetype": "text/x-python",
   "name": "python",
   "nbconvert_exporter": "python",
   "pygments_lexer": "ipython2",
   "version": "2.7.15"
  }
 },
 "nbformat": 4,
 "nbformat_minor": 0
}